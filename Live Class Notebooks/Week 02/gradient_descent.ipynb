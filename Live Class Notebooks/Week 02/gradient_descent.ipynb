{
 "cells": [
  {
   "cell_type": "markdown",
   "metadata": {},
   "source": [
    "# Linear Regression 2 ways\n",
    "\n",
    "We are all familiar with linear regression.  There are numerous ways to solve the problem.\n",
    "\n",
    "Essentially, the best fit line thru a set of points is the one that has lowest MSE (mean squared error) of the residuals.  "
   ]
  },
  {
   "cell_type": "markdown",
   "metadata": {},
   "source": [
    "## sample data"
   ]
  },
  {
   "cell_type": "code",
   "execution_count": 1,
   "metadata": {},
   "outputs": [],
   "source": [
    "import pandas\n",
    "import statsmodels.api as sm\n",
    "import numpy as np\n",
    "import matplotlib.pyplot as plt\n",
    "\n",
    "%matplotlib inline"
   ]
  },
  {
   "cell_type": "code",
   "execution_count": 2,
   "metadata": {},
   "outputs": [
    {
     "data": {
      "text/html": [
       "<div>\n",
       "<style scoped>\n",
       "    .dataframe tbody tr th:only-of-type {\n",
       "        vertical-align: middle;\n",
       "    }\n",
       "\n",
       "    .dataframe tbody tr th {\n",
       "        vertical-align: top;\n",
       "    }\n",
       "\n",
       "    .dataframe thead th {\n",
       "        text-align: right;\n",
       "    }\n",
       "</style>\n",
       "<table border=\"1\" class=\"dataframe\">\n",
       "  <thead>\n",
       "    <tr style=\"text-align: right;\">\n",
       "      <th></th>\n",
       "      <th>year</th>\n",
       "      <th>GDP</th>\n",
       "      <th>sales</th>\n",
       "    </tr>\n",
       "  </thead>\n",
       "  <tbody>\n",
       "    <tr>\n",
       "      <td>0</td>\n",
       "      <td>2011</td>\n",
       "      <td>6.20</td>\n",
       "      <td>26.30</td>\n",
       "    </tr>\n",
       "    <tr>\n",
       "      <td>1</td>\n",
       "      <td>2012</td>\n",
       "      <td>6.50</td>\n",
       "      <td>26.65</td>\n",
       "    </tr>\n",
       "    <tr>\n",
       "      <td>2</td>\n",
       "      <td>2013</td>\n",
       "      <td>5.48</td>\n",
       "      <td>25.03</td>\n",
       "    </tr>\n",
       "    <tr>\n",
       "      <td>3</td>\n",
       "      <td>2014</td>\n",
       "      <td>6.54</td>\n",
       "      <td>26.01</td>\n",
       "    </tr>\n",
       "    <tr>\n",
       "      <td>4</td>\n",
       "      <td>2015</td>\n",
       "      <td>7.18</td>\n",
       "      <td>27.90</td>\n",
       "    </tr>\n",
       "    <tr>\n",
       "      <td>5</td>\n",
       "      <td>2016</td>\n",
       "      <td>7.93</td>\n",
       "      <td>30.47</td>\n",
       "    </tr>\n",
       "  </tbody>\n",
       "</table>\n",
       "</div>"
      ],
      "text/plain": [
       "   year   GDP  sales\n",
       "0  2011  6.20  26.30\n",
       "1  2012  6.50  26.65\n",
       "2  2013  5.48  25.03\n",
       "3  2014  6.54  26.01\n",
       "4  2015  7.18  27.90\n",
       "5  2016  7.93  30.47"
      ]
     },
     "execution_count": 2,
     "metadata": {},
     "output_type": "execute_result"
    }
   ],
   "source": [
    "\n",
    "df = pandas.read_csv(\"vehicle_sale_data.csv\")\n",
    "df"
   ]
  },
  {
   "cell_type": "code",
   "execution_count": 3,
   "metadata": {},
   "outputs": [
    {
     "data": {
      "text/plain": [
       "<matplotlib.axes._subplots.AxesSubplot at 0x15687c62e88>"
      ]
     },
     "execution_count": 3,
     "metadata": {},
     "output_type": "execute_result"
    },
    {
     "data": {
      "image/png": "[encoded data removed]",
      "text/plain": [
       "<Figure size 432x288 with 1 Axes>"
      ]
     },
     "metadata": {
      "needs_background": "light"
     },
     "output_type": "display_data"
    }
   ],
   "source": [
    "df.plot(x='GDP', y='sales', kind='scatter')"
   ]
  },
  {
   "cell_type": "markdown",
   "metadata": {},
   "source": [
    "## regression using OLS (ordinary least squares) method\n",
    "\n",
    "the OLS method is based on linear algebra and matrix inversions"
   ]
  },
  {
   "cell_type": "code",
   "execution_count": 4,
   "metadata": {
    "scrolled": false
   },
   "outputs": [
    {
     "name": "stderr",
     "output_type": "stream",
     "text": [
      "C:\\Users\\vulo\\Anaconda3\\lib\\site-packages\\statsmodels\\stats\\stattools.py:71: ValueWarning: omni_normtest is not valid with less than 8 observations; 6 samples were given.\n",
      "  \"samples were given.\" % int(n), ValueWarning)\n"
     ]
    },
    {
     "data": {
      "text/html": [
       "<table class=\"simpletable\">\n",
       "<caption>OLS Regression Results</caption>\n",
       "<tr>\n",
       "  <th>Dep. Variable:</th>          <td>sales</td>      <th>  R-squared (uncentered):</th>      <td>   0.997</td>\n",
       "</tr>\n",
       "<tr>\n",
       "  <th>Model:</th>                   <td>OLS</td>       <th>  Adj. R-squared (uncentered):</th> <td>   0.996</td>\n",
       "</tr>\n",
       "<tr>\n",
       "  <th>Method:</th>             <td>Least Squares</td>  <th>  F-statistic:       </th>          <td>   1583.</td>\n",
       "</tr>\n",
       "<tr>\n",
       "  <th>Date:</th>             <td>Sat, 28 Jan 2023</td> <th>  Prob (F-statistic):</th>          <td>1.89e-07</td>\n",
       "</tr>\n",
       "<tr>\n",
       "  <th>Time:</th>                 <td>23:47:28</td>     <th>  Log-Likelihood:    </th>          <td> -11.032</td>\n",
       "</tr>\n",
       "<tr>\n",
       "  <th>No. Observations:</th>      <td>     6</td>      <th>  AIC:               </th>          <td>   24.06</td>\n",
       "</tr>\n",
       "<tr>\n",
       "  <th>Df Residuals:</th>          <td>     5</td>      <th>  BIC:               </th>          <td>   23.86</td>\n",
       "</tr>\n",
       "<tr>\n",
       "  <th>Df Model:</th>              <td>     1</td>      <th>                     </th>              <td> </td>   \n",
       "</tr>\n",
       "<tr>\n",
       "  <th>Covariance Type:</th>      <td>nonrobust</td>    <th>                     </th>              <td> </td>   \n",
       "</tr>\n",
       "</table>\n",
       "<table class=\"simpletable\">\n",
       "<tr>\n",
       "   <td></td>      <th>coef</th>     <th>std err</th>      <th>t</th>      <th>P>|t|</th>  <th>[0.025</th>    <th>0.975]</th>  \n",
       "</tr>\n",
       "<tr>\n",
       "  <th>GDP</th> <td>    4.0515</td> <td>    0.102</td> <td>   39.785</td> <td> 0.000</td> <td>    3.790</td> <td>    4.313</td>\n",
       "</tr>\n",
       "</table>\n",
       "<table class=\"simpletable\">\n",
       "<tr>\n",
       "  <th>Omnibus:</th>       <td>   nan</td> <th>  Durbin-Watson:     </th> <td>   1.350</td>\n",
       "</tr>\n",
       "<tr>\n",
       "  <th>Prob(Omnibus):</th> <td>   nan</td> <th>  Jarque-Bera (JB):  </th> <td>   0.489</td>\n",
       "</tr>\n",
       "<tr>\n",
       "  <th>Skew:</th>          <td> 0.535</td> <th>  Prob(JB):          </th> <td>   0.783</td>\n",
       "</tr>\n",
       "<tr>\n",
       "  <th>Kurtosis:</th>      <td> 2.099</td> <th>  Cond. No.          </th> <td>    1.00</td>\n",
       "</tr>\n",
       "</table><br/><br/>Warnings:<br/>[1] Standard Errors assume that the covariance matrix of the errors is correctly specified."
      ],
      "text/plain": [
       "<class 'statsmodels.iolib.summary.Summary'>\n",
       "\"\"\"\n",
       "                                 OLS Regression Results                                \n",
       "=======================================================================================\n",
       "Dep. Variable:                  sales   R-squared (uncentered):                   0.997\n",
       "Model:                            OLS   Adj. R-squared (uncentered):              0.996\n",
       "Method:                 Least Squares   F-statistic:                              1583.\n",
       "Date:                Sat, 28 Jan 2023   Prob (F-statistic):                    1.89e-07\n",
       "Time:                        23:47:28   Log-Likelihood:                         -11.032\n",
       "No. Observations:                   6   AIC:                                      24.06\n",
       "Df Residuals:                       5   BIC:                                      23.86\n",
       "Df Model:                           1                                                  \n",
       "Covariance Type:            nonrobust                                                  \n",
       "==============================================================================\n",
       "                 coef    std err          t      P>|t|      [0.025      0.975]\n",
       "------------------------------------------------------------------------------\n",
       "GDP            4.0515      0.102     39.785      0.000       3.790       4.313\n",
       "==============================================================================\n",
       "Omnibus:                          nan   Durbin-Watson:                   1.350\n",
       "Prob(Omnibus):                    nan   Jarque-Bera (JB):                0.489\n",
       "Skew:                           0.535   Prob(JB):                        0.783\n",
       "Kurtosis:                       2.099   Cond. No.                         1.00\n",
       "==============================================================================\n",
       "\n",
       "Warnings:\n",
       "[1] Standard Errors assume that the covariance matrix of the errors is correctly specified.\n",
       "\"\"\""
      ]
     },
     "execution_count": 4,
     "metadata": {},
     "output_type": "execute_result"
    }
   ],
   "source": [
    "# use OLS to find best fit line\n",
    "X = df.GDP\n",
    "model = sm.OLS(df.sales, X).fit()\n",
    "\n",
    "# summarize our model\n",
    "summary = model.summary()\n",
    "summary"
   ]
  },
  {
   "cell_type": "code",
   "execution_count": 5,
   "metadata": {},
   "outputs": [
    {
     "data": {
      "text/html": [
       "<div>\n",
       "<style scoped>\n",
       "    .dataframe tbody tr th:only-of-type {\n",
       "        vertical-align: middle;\n",
       "    }\n",
       "\n",
       "    .dataframe tbody tr th {\n",
       "        vertical-align: top;\n",
       "    }\n",
       "\n",
       "    .dataframe thead th {\n",
       "        text-align: right;\n",
       "    }\n",
       "</style>\n",
       "<table border=\"1\" class=\"dataframe\">\n",
       "  <thead>\n",
       "    <tr style=\"text-align: right;\">\n",
       "      <th></th>\n",
       "      <th>year</th>\n",
       "      <th>GDP</th>\n",
       "      <th>sales</th>\n",
       "      <th>sales_predict</th>\n",
       "    </tr>\n",
       "  </thead>\n",
       "  <tbody>\n",
       "    <tr>\n",
       "      <td>0</td>\n",
       "      <td>2011</td>\n",
       "      <td>6.20</td>\n",
       "      <td>26.30</td>\n",
       "      <td>25.119030</td>\n",
       "    </tr>\n",
       "    <tr>\n",
       "      <td>1</td>\n",
       "      <td>2012</td>\n",
       "      <td>6.50</td>\n",
       "      <td>26.65</td>\n",
       "      <td>26.334467</td>\n",
       "    </tr>\n",
       "    <tr>\n",
       "      <td>2</td>\n",
       "      <td>2013</td>\n",
       "      <td>5.48</td>\n",
       "      <td>25.03</td>\n",
       "      <td>22.201982</td>\n",
       "    </tr>\n",
       "    <tr>\n",
       "      <td>3</td>\n",
       "      <td>2014</td>\n",
       "      <td>6.54</td>\n",
       "      <td>26.01</td>\n",
       "      <td>26.496525</td>\n",
       "    </tr>\n",
       "    <tr>\n",
       "      <td>4</td>\n",
       "      <td>2015</td>\n",
       "      <td>7.18</td>\n",
       "      <td>27.90</td>\n",
       "      <td>29.089458</td>\n",
       "    </tr>\n",
       "    <tr>\n",
       "      <td>5</td>\n",
       "      <td>2016</td>\n",
       "      <td>7.93</td>\n",
       "      <td>30.47</td>\n",
       "      <td>32.128050</td>\n",
       "    </tr>\n",
       "  </tbody>\n",
       "</table>\n",
       "</div>"
      ],
      "text/plain": [
       "   year   GDP  sales  sales_predict\n",
       "0  2011  6.20  26.30      25.119030\n",
       "1  2012  6.50  26.65      26.334467\n",
       "2  2013  5.48  25.03      22.201982\n",
       "3  2014  6.54  26.01      26.496525\n",
       "4  2015  7.18  27.90      29.089458\n",
       "5  2016  7.93  30.47      32.128050"
      ]
     },
     "execution_count": 5,
     "metadata": {},
     "output_type": "execute_result"
    }
   ],
   "source": [
    "sales_predict = model.predict(X)\n",
    "df['sales_predict'] = sales_predict # add to data frame\n",
    "df\n"
   ]
  },
  {
   "cell_type": "code",
   "execution_count": 7,
   "metadata": {},
   "outputs": [
    {
     "data": {
      "text/plain": [
       "<matplotlib.axes._subplots.AxesSubplot at 0x176156c5fc8>"
      ]
     },
     "execution_count": 7,
     "metadata": {},
     "output_type": "execute_result"
    },
    {
     "data": {
      "image/png": "[encoded data removed]",
      "text/plain": [
       "<Figure size 432x288 with 1 Axes>"
      ]
     },
     "metadata": {
      "needs_background": "light"
     },
     "output_type": "display_data"
    }
   ],
   "source": [
    "ax = df.plot(x='GDP', y='sales', kind='scatter')\n",
    "# predicted data\n",
    "df.plot(x='GDP', y='sales_predict', ax=ax, color='green')\n"
   ]
  },
  {
   "cell_type": "code",
   "execution_count": 6,
   "metadata": {},
   "outputs": [
    {
     "name": "stdout",
     "output_type": "stream",
     "text": [
      "4.051456484975701\n"
     ]
    },
    {
     "data": {
      "text/plain": [
       "0    25.119030\n",
       "1    26.334467\n",
       "2    22.201982\n",
       "3    26.496525\n",
       "4    29.089458\n",
       "5    32.128050\n",
       "Name: GDP, dtype: float64"
      ]
     },
     "execution_count": 6,
     "metadata": {},
     "output_type": "execute_result"
    }
   ],
   "source": [
    "# verify linear equation ... y = mx+b\n",
    "m = model.params['GDP']\n",
    "b = 0\n",
    "print(m) \n",
    "m * df.GDP  + b"
   ]
  },
  {
   "cell_type": "code",
   "execution_count": 7,
   "metadata": {},
   "outputs": [
    {
     "name": "stderr",
     "output_type": "stream",
     "text": [
      "C:\\Users\\vulo\\Anaconda3\\lib\\site-packages\\numpy\\core\\fromnumeric.py:2389: FutureWarning: Method .ptp is deprecated and will be removed in a future version. Use numpy.ptp instead.\n",
      "  return ptp(axis=axis, out=out, **kwargs)\n",
      "C:\\Users\\vulo\\Anaconda3\\lib\\site-packages\\statsmodels\\stats\\stattools.py:71: ValueWarning: omni_normtest is not valid with less than 8 observations; 6 samples were given.\n",
      "  \"samples were given.\" % int(n), ValueWarning)\n"
     ]
    },
    {
     "data": {
      "text/html": [
       "<table class=\"simpletable\">\n",
       "<caption>OLS Regression Results</caption>\n",
       "<tr>\n",
       "  <th>Dep. Variable:</th>          <td>sales</td>      <th>  R-squared:         </th> <td>   0.920</td>\n",
       "</tr>\n",
       "<tr>\n",
       "  <th>Model:</th>                   <td>OLS</td>       <th>  Adj. R-squared:    </th> <td>   0.900</td>\n",
       "</tr>\n",
       "<tr>\n",
       "  <th>Method:</th>             <td>Least Squares</td>  <th>  F-statistic:       </th> <td>   46.06</td>\n",
       "</tr>\n",
       "<tr>\n",
       "  <th>Date:</th>             <td>Sat, 28 Jan 2023</td> <th>  Prob (F-statistic):</th>  <td>0.00246</td>\n",
       "</tr>\n",
       "<tr>\n",
       "  <th>Time:</th>                 <td>23:47:37</td>     <th>  Log-Likelihood:    </th> <td> -4.2789</td>\n",
       "</tr>\n",
       "<tr>\n",
       "  <th>No. Observations:</th>      <td>     6</td>      <th>  AIC:               </th> <td>   12.56</td>\n",
       "</tr>\n",
       "<tr>\n",
       "  <th>Df Residuals:</th>          <td>     4</td>      <th>  BIC:               </th> <td>   12.14</td>\n",
       "</tr>\n",
       "<tr>\n",
       "  <th>Df Model:</th>              <td>     1</td>      <th>                     </th>     <td> </td>   \n",
       "</tr>\n",
       "<tr>\n",
       "  <th>Covariance Type:</th>      <td>nonrobust</td>    <th>                     </th>     <td> </td>   \n",
       "</tr>\n",
       "</table>\n",
       "<table class=\"simpletable\">\n",
       "<tr>\n",
       "    <td></td>       <th>coef</th>     <th>std err</th>      <th>t</th>      <th>P>|t|</th>  <th>[0.025</th>    <th>0.975]</th>  \n",
       "</tr>\n",
       "<tr>\n",
       "  <th>const</th> <td>   12.5494</td> <td>    2.152</td> <td>    5.831</td> <td> 0.004</td> <td>    6.574</td> <td>   18.525</td>\n",
       "</tr>\n",
       "<tr>\n",
       "  <th>GDP</th>   <td>    2.1859</td> <td>    0.322</td> <td>    6.787</td> <td> 0.002</td> <td>    1.292</td> <td>    3.080</td>\n",
       "</tr>\n",
       "</table>\n",
       "<table class=\"simpletable\">\n",
       "<tr>\n",
       "  <th>Omnibus:</th>       <td>   nan</td> <th>  Durbin-Watson:     </th> <td>   2.297</td>\n",
       "</tr>\n",
       "<tr>\n",
       "  <th>Prob(Omnibus):</th> <td>   nan</td> <th>  Jarque-Bera (JB):  </th> <td>   0.452</td>\n",
       "</tr>\n",
       "<tr>\n",
       "  <th>Skew:</th>          <td>-0.399</td> <th>  Prob(JB):          </th> <td>   0.798</td>\n",
       "</tr>\n",
       "<tr>\n",
       "  <th>Kurtosis:</th>      <td> 1.918</td> <th>  Cond. No.          </th> <td>    59.6</td>\n",
       "</tr>\n",
       "</table><br/><br/>Warnings:<br/>[1] Standard Errors assume that the covariance matrix of the errors is correctly specified."
      ],
      "text/plain": [
       "<class 'statsmodels.iolib.summary.Summary'>\n",
       "\"\"\"\n",
       "                            OLS Regression Results                            \n",
       "==============================================================================\n",
       "Dep. Variable:                  sales   R-squared:                       0.920\n",
       "Model:                            OLS   Adj. R-squared:                  0.900\n",
       "Method:                 Least Squares   F-statistic:                     46.06\n",
       "Date:                Sat, 28 Jan 2023   Prob (F-statistic):            0.00246\n",
       "Time:                        23:47:37   Log-Likelihood:                -4.2789\n",
       "No. Observations:                   6   AIC:                             12.56\n",
       "Df Residuals:                       4   BIC:                             12.14\n",
       "Df Model:                           1                                         \n",
       "Covariance Type:            nonrobust                                         \n",
       "==============================================================================\n",
       "                 coef    std err          t      P>|t|      [0.025      0.975]\n",
       "------------------------------------------------------------------------------\n",
       "const         12.5494      2.152      5.831      0.004       6.574      18.525\n",
       "GDP            2.1859      0.322      6.787      0.002       1.292       3.080\n",
       "==============================================================================\n",
       "Omnibus:                          nan   Durbin-Watson:                   2.297\n",
       "Prob(Omnibus):                    nan   Jarque-Bera (JB):                0.452\n",
       "Skew:                          -0.399   Prob(JB):                        0.798\n",
       "Kurtosis:                       1.918   Cond. No.                         59.6\n",
       "==============================================================================\n",
       "\n",
       "Warnings:\n",
       "[1] Standard Errors assume that the covariance matrix of the errors is correctly specified.\n",
       "\"\"\""
      ]
     },
     "execution_count": 7,
     "metadata": {},
     "output_type": "execute_result"
    }
   ],
   "source": [
    "# try again w/ intercept - not obvious how to do this w/ statsmodels\n",
    "\n",
    "X = sm.add_constant(df.GDP)\n",
    "model = sm.OLS(df.sales, X).fit()\n",
    "\n",
    "sales_predict = model.predict(X)\n",
    "df['sales_predict'] = sales_predict # add to data frame\n",
    "df\n",
    "\n",
    "# summarize our model\n",
    "summary = model.summary()\n",
    "summary"
   ]
  },
  {
   "cell_type": "code",
   "execution_count": 8,
   "metadata": {},
   "outputs": [
    {
     "name": "stdout",
     "output_type": "stream",
     "text": [
      "2.185880672817291 12.549395466947878\n"
     ]
    },
    {
     "data": {
      "text/plain": [
       "0    26.101856\n",
       "1    26.757620\n",
       "2    24.528022\n",
       "3    26.845055\n",
       "4    28.244019\n",
       "5    29.883429\n",
       "Name: GDP, dtype: float64"
      ]
     },
     "execution_count": 8,
     "metadata": {},
     "output_type": "execute_result"
    },
    {
     "data": {
      "image/png": "[encoded data removed]",
      "text/plain": [
       "<Figure size 432x288 with 1 Axes>"
      ]
     },
     "metadata": {
      "needs_background": "light"
     },
     "output_type": "display_data"
    }
   ],
   "source": [
    "# verify linear equation ... y = mx+b\n",
    "m = model.params['GDP']\n",
    "b = model.params['const']\n",
    "\n",
    "print (m,b)\n",
    "\n",
    "ax = df.plot(x='GDP', y='sales', kind='scatter')\n",
    "# predicted data\n",
    "df.plot(x='GDP', y='sales_predict', ax=ax, color='green')\n",
    "\n",
    "\n",
    "m * df.GDP  + b"
   ]
  },
  {
   "cell_type": "markdown",
   "metadata": {},
   "source": [
    "## gradient descent to estimate regression parameters\n",
    "\n",
    "General procedure\n",
    "- define a Cost function\n",
    "- find the minimum of the Cost function\n",
    "- find minumum by \"descending down the maximum slope\" until you \"reach the bottom\""
   ]
  },
  {
   "cell_type": "code",
   "execution_count": 9,
   "metadata": {},
   "outputs": [],
   "source": [
    "def cost_function(df, xcol, ycol, m, b):\n",
    "    # just RMSE for now\n",
    "\n",
    "    y_pred = m*df[xcol] + b\n",
    "    return np.sqrt(sum((df[ycol] - y_pred) ** 2))\n",
    "\n",
    "def cost_function_meshgrid(df, xcol, ycol, m, b):\n",
    "    y_pred = 0\n",
    "    cost = 0\n",
    "    for ii,rr in df.iterrows():\n",
    "        y_pred += m*rr[xcol] + b\n",
    "    for ii,rr in df.iterrows():\n",
    "        cost += (rr[ycol] - y_pred) ** 2\n",
    "    \n",
    "    return np.sqrt(cost)\n",
    "    "
   ]
  },
  {
   "cell_type": "code",
   "execution_count": 10,
   "metadata": {},
   "outputs": [
    {
     "data": {
      "text/plain": [
       "[<matplotlib.lines.Line2D at 0x15688692a48>]"
      ]
     },
     "execution_count": 10,
     "metadata": {},
     "output_type": "execute_result"
    },
    {
     "data": {
      "image/png": "[encoded data removed]",
      "text/plain": [
       "<Figure size 432x288 with 1 Axes>"
      ]
     },
     "metadata": {
      "needs_background": "light"
     },
     "output_type": "display_data"
    }
   ],
   "source": [
    "# plot rmse vs different m to verify that OLS gave right answer\n",
    "m_range = np.arange(-10, 10, 1) * m \n",
    "rmse_range = list()\n",
    "for mm in m_range:\n",
    "    rmse_range.append(cost_function(df, 'GDP', 'sales', mm,b))\n",
    "plt.plot(m_range, rmse_range)"
   ]
  },
  {
   "cell_type": "code",
   "execution_count": 11,
   "metadata": {
    "scrolled": true
   },
   "outputs": [
    {
     "data": {
      "image/png": "[encoded data removed]",
      "text/plain": [
       "<Figure size 432x288 with 1 Axes>"
      ]
     },
     "metadata": {
      "needs_background": "light"
     },
     "output_type": "display_data"
    }
   ],
   "source": [
    "from mpl_toolkits.mplot3d import Axes3D\n",
    "import matplotlib.pyplot as plt\n",
    "from matplotlib import cm\n",
    "from matplotlib.ticker import LinearLocator, FormatStrFormatter\n",
    "import numpy as np\n",
    "\n",
    "m_range = np.arange(-10, 10, 1) * m / 5.\n",
    "b_range = np.arange(-10, 10, 1) * b / 5.\n",
    "mm, bb = np.meshgrid(m_range, b_range)\n",
    "\n",
    "\n",
    "zz = cost_function_meshgrid(df, 'sales', 'GDP', mm,bb)\n",
    "fig = plt.figure()\n",
    "ax = fig.gca(projection='3d')\n",
    "\n",
    "h = ax.plot_surface(mm,bb,zz, cmap=cm.coolwarm)"
   ]
  },
  {
   "cell_type": "code",
   "execution_count": 12,
   "metadata": {},
   "outputs": [],
   "source": [
    "def compute_error_for_line_given_points(b,m,points):\n",
    "    totalError = 0 \t#sum of square error formula\n",
    "    for i in range (0, len(points)):\n",
    "        x = points[i, 0]\n",
    "        y = points[i, 1]\n",
    "        totalError += (y-(m*x + b)) ** 2\n",
    "    return np.sqrt(totalError)#/ float(len(points))\n",
    "\n",
    "def step_gradient(b_current, m_current, points, learning_rate):\n",
    "\t#gradient descent\n",
    "\tb_gradient = 0\n",
    "\tm_gradient = 0\n",
    "\tN = float(len(points))\n",
    "\tfor i in range(0, len(points)):\n",
    "\t\tx = points[i, 0]\n",
    "\t\ty = points[i, 1]\n",
    "\t\tb_gradient += -(2/N) * (y - (m_current * x + b_current))\n",
    "\t\tm_gradient += -(2/N) * x * (y - (m_current * x + b_current))\n",
    "\tnew_b = b_current - (learning_rate * b_gradient)\n",
    "\tnew_m = m_current - (learning_rate * m_gradient) \n",
    "\treturn [new_b,new_m]"
   ]
  },
  {
   "cell_type": "code",
   "execution_count": 13,
   "metadata": {},
   "outputs": [],
   "source": [
    "def gradient_descent_runner(points, starting_b, starting_m, learning_rate, num_iteartions):\n",
    "\tb = starting_b\n",
    "\tm = starting_m\n",
    "\tfor i in range(num_iteartions):\n",
    "\t\tb,m = step_gradient(b, m, np.array(points), learning_rate)\n",
    "\treturn [b,m]"
   ]
  },
  {
   "cell_type": "code",
   "execution_count": 14,
   "metadata": {},
   "outputs": [],
   "source": [
    "df['ones'] = 1"
   ]
  },
  {
   "cell_type": "code",
   "execution_count": 15,
   "metadata": {},
   "outputs": [
    {
     "data": {
      "text/plain": [
       "array([[ 6.2 , 26.3 ],\n",
       "       [ 6.5 , 26.65],\n",
       "       [ 5.48, 25.03],\n",
       "       [ 6.54, 26.01],\n",
       "       [ 7.18, 27.9 ],\n",
       "       [ 7.93, 30.47]])"
      ]
     },
     "execution_count": 15,
     "metadata": {},
     "output_type": "execute_result"
    }
   ],
   "source": [
    "points = df[['GDP', 'sales']].values\n",
    "points"
   ]
  },
  {
   "cell_type": "code",
   "execution_count": 16,
   "metadata": {},
   "outputs": [
    {
     "name": "stdout",
     "output_type": "stream",
     "text": [
      "After 2000 iterations b = 12.041549388708004, m = 2.2613981320490946, error = 1.217749052211482\n"
     ]
    }
   ],
   "source": [
    "#points = genfromtxt('data.csv', delimiter=',')\n",
    "\n",
    "\n",
    "learning_rate = 0.0001 #how fast the data converge\n",
    "\n",
    "initial_b = 12 # initial y-intercept guess\n",
    "initial_m = 2 # initial slope guess\n",
    "num_iterations = 2000\n",
    "\n",
    "[b, m] = gradient_descent_runner(points, initial_b, initial_m, learning_rate, num_iterations)\n",
    "print(\"After {0} iterations b = {1}, m = {2}, error = {3}\".format(num_iterations, b, m, compute_error_for_line_given_points(b, m, points)))"
   ]
  },
  {
   "cell_type": "code",
   "execution_count": 17,
   "metadata": {
    "scrolled": true
   },
   "outputs": [
    {
     "name": "stdout",
     "output_type": "stream",
     "text": [
      "2.2613981320490946 12.041549388708004\n"
     ]
    }
   ],
   "source": [
    "print(m,b)\n",
    "df['predict_ml'] = m * df.GDP + b"
   ]
  },
  {
   "cell_type": "code",
   "execution_count": 18,
   "metadata": {},
   "outputs": [
    {
     "data": {
      "text/plain": [
       "<matplotlib.axes._subplots.AxesSubplot at 0x15688171088>"
      ]
     },
     "execution_count": 18,
     "metadata": {},
     "output_type": "execute_result"
    },
    {
     "data": {
      "image/png": "[encoded data removed]",
      "text/plain": [
       "<Figure size 432x288 with 1 Axes>"
      ]
     },
     "metadata": {
      "needs_background": "light"
     },
     "output_type": "display_data"
    }
   ],
   "source": [
    "ax = df.plot(x='GDP', y='sales', kind='scatter')\n",
    "df.plot(x='GDP', y='sales_predict', ax=ax, color='green') # predicted data\n",
    "df.plot(x='GDP', y='predict_ml', ax=ax, color='red') # predicted data"
   ]
  },
  {
   "cell_type": "code",
   "execution_count": null,
   "metadata": {},
   "outputs": [],
   "source": []
  },
  {
   "cell_type": "code",
   "execution_count": null,
   "metadata": {},
   "outputs": [],
   "source": []
  }
 ],
 "metadata": {
  "kernelspec": {
   "display_name": "Python 3",
   "language": "python",
   "name": "python3"
  },
  "language_info": {
   "codemirror_mode": {
    "name": "ipython",
    "version": 3
   },
   "file_extension": ".py",
   "mimetype": "text/x-python",
   "name": "python",
   "nbconvert_exporter": "python",
   "pygments_lexer": "ipython3",
   "version": "3.7.4"
  }
 },
 "nbformat": 4,
 "nbformat_minor": 2
}
