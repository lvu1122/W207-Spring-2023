{
 "cells": [
  {
   "cell_type": "code",
   "execution_count": 50,
   "id": "6718d476-6e97-49b5-9ea8-a4cc2b2a95a1",
   "metadata": {},
   "outputs": [],
   "source": [
    "import numpy\n",
    "from keras.models import Sequential\n",
    "from keras.layers import Dense, Dropout, Flatten, BatchNormalization, Activation\n",
    "from keras.layers.convolutional import Conv2D, MaxPooling2D\n",
    "from keras.constraints import maxnorm\n",
    "from keras.utils import np_utils"
   ]
  },
  {
   "cell_type": "code",
   "execution_count": 51,
   "id": "ce20b3c8-1325-4c38-937a-e8a0dd5546bb",
   "metadata": {},
   "outputs": [],
   "source": [
    "#setting random seed for the purpose of reproducability\n",
    "seed = 21"
   ]
  },
  {
   "cell_type": "code",
   "execution_count": 52,
   "id": "3921569b-920e-44d3-8b9f-599cf5841d5d",
   "metadata": {},
   "outputs": [],
   "source": [
    "#importing the data\n",
    "from keras.datasets import cifar10"
   ]
  },
  {
   "cell_type": "code",
   "execution_count": 53,
   "id": "425efab7-c209-404c-a1cb-950dc229d568",
   "metadata": {},
   "outputs": [],
   "source": [
    "#loading the data\n",
    "(X_train,y_train), (X_test, y_test) = cifar10.load_data()"
   ]
  },
  {
   "cell_type": "code",
   "execution_count": 54,
   "id": "b46f3051-60e6-442c-b1cd-c97dc30766bf",
   "metadata": {},
   "outputs": [
    {
     "name": "stdout",
     "output_type": "stream",
     "text": [
      "[[[ 59  62  63]\n",
      "  [ 43  46  45]\n",
      "  [ 50  48  43]\n",
      "  ...\n",
      "  [158 132 108]\n",
      "  [152 125 102]\n",
      "  [148 124 103]]\n",
      "\n",
      " [[ 16  20  20]\n",
      "  [  0   0   0]\n",
      "  [ 18   8   0]\n",
      "  ...\n",
      "  [123  88  55]\n",
      "  [119  83  50]\n",
      "  [122  87  57]]\n",
      "\n",
      " [[ 25  24  21]\n",
      "  [ 16   7   0]\n",
      "  [ 49  27   8]\n",
      "  ...\n",
      "  [118  84  50]\n",
      "  [120  84  50]\n",
      "  [109  73  42]]\n",
      "\n",
      " ...\n",
      "\n",
      " [[208 170  96]\n",
      "  [201 153  34]\n",
      "  [198 161  26]\n",
      "  ...\n",
      "  [160 133  70]\n",
      "  [ 56  31   7]\n",
      "  [ 53  34  20]]\n",
      "\n",
      " [[180 139  96]\n",
      "  [173 123  42]\n",
      "  [186 144  30]\n",
      "  ...\n",
      "  [184 148  94]\n",
      "  [ 97  62  34]\n",
      "  [ 83  53  34]]\n",
      "\n",
      " [[177 144 116]\n",
      "  [168 129  94]\n",
      "  [179 142  87]\n",
      "  ...\n",
      "  [216 184 140]\n",
      "  [151 118  84]\n",
      "  [123  92  72]]]\n"
     ]
    }
   ],
   "source": [
    "print(X_train[0])"
   ]
  },
  {
   "cell_type": "code",
   "execution_count": 55,
   "id": "2a07f918-0beb-43b8-afa2-3930cb6f6e07",
   "metadata": {},
   "outputs": [],
   "source": [
    "#normalize the inputs from 0-255 to between 0 and 1 by dividing by 255\n",
    "\n",
    "\n",
    "X_train = X_train.astype('float32')\n",
    "X_test = X_test.astype('float32')\n",
    "X_train = X_train/255.0\n",
    "X_test = X_test/255.0"
   ]
  },
  {
   "cell_type": "code",
   "execution_count": 56,
   "id": "72073301-7130-402c-a87d-8ba8df3d1709",
   "metadata": {},
   "outputs": [],
   "source": [
    "#one hot encoding outputs\n",
    "\n",
    "y_train = np_utils.to_categorical(y_train)\n",
    "y_test = np_utils.to_categorical(y_test)\n",
    "class_num = y_test.shape[1]"
   ]
  },
  {
   "cell_type": "code",
   "execution_count": 57,
   "id": "ba93c856-a957-4a48-b81b-4fb238728d39",
   "metadata": {},
   "outputs": [],
   "source": [
    "#designing the model\n",
    "\n",
    "model = Sequential()"
   ]
  },
  {
   "cell_type": "code",
   "execution_count": 58,
   "id": "f7546d8c-8d02-4dce-8900-f8fb708bae05",
   "metadata": {},
   "outputs": [],
   "source": [
    "#convolution layer\n",
    "#zero padding done\n",
    "\n",
    "model.add(Conv2D(32, (3, 3), input_shape=X_train.shape[1:], padding='same'))\n",
    "model.add(Activation('relu'))"
   ]
  },
  {
   "cell_type": "code",
   "execution_count": 59,
   "id": "49b3d5f5-7ed0-45cf-b41c-5a3689a8332c",
   "metadata": {},
   "outputs": [],
   "source": [
    "model.add(Dropout(0.2))"
   ]
  },
  {
   "cell_type": "code",
   "execution_count": 60,
   "id": "b5c3e2ed-f457-47a9-99ed-0720b27d16c8",
   "metadata": {},
   "outputs": [],
   "source": [
    "model.add(BatchNormalization())"
   ]
  },
  {
   "cell_type": "code",
   "execution_count": 61,
   "id": "35736c21-4b95-4bd3-b5ec-f44d8fc47b18",
   "metadata": {},
   "outputs": [],
   "source": [
    "#another convolution layer \n",
    "#filter size increases so that network can learn more complex representations\n",
    "\n",
    "model.add(Conv2D(64, (3, 3), input_shape=X_train.shape[1:], padding='same'))\n",
    "model.add(Activation('relu'))"
   ]
  },
  {
   "cell_type": "code",
   "execution_count": 62,
   "id": "d2501660-a15b-42fa-8b51-c63506697e43",
   "metadata": {},
   "outputs": [],
   "source": [
    "model.add(MaxPooling2D(pool_size=(2,2)))\n",
    "model.add(Dropout(0.2))\n",
    "model.add(BatchNormalization())"
   ]
  },
  {
   "cell_type": "code",
   "execution_count": 63,
   "id": "793f86fb-70ed-4acb-978d-de9edd454f26",
   "metadata": {},
   "outputs": [],
   "source": [
    "#repeating the same\n",
    "\n",
    "model.add(Conv2D(64, (3, 3), padding='same'))\n",
    "model.add(Activation('relu'))\n",
    "model.add(MaxPooling2D(pool_size=(2, 2)))\n",
    "model.add(Dropout(0.2))\n",
    "model.add(BatchNormalization())\n",
    "\n",
    "model.add(Conv2D(128, (3, 3), padding='same'))\n",
    "model.add(Activation('relu'))\n",
    "model.add(Dropout(0.2))\n",
    "model.add(BatchNormalization())"
   ]
  },
  {
   "cell_type": "code",
   "execution_count": 64,
   "id": "36a0250c-44e7-44f0-8079-d7838cdbec6e",
   "metadata": {},
   "outputs": [],
   "source": [
    "model.add(Flatten())\n",
    "model.add(Dropout(0.2))\n"
   ]
  },
  {
   "cell_type": "code",
   "execution_count": 65,
   "id": "65064df5-e11d-46a5-840d-be24f6c24427",
   "metadata": {},
   "outputs": [],
   "source": [
    "model.add(Dense(256, kernel_constraint=maxnorm(3)))\n",
    "model.add(Activation('relu'))\n",
    "model.add(Dropout(0.2))\n",
    "model.add(BatchNormalization())\n",
    "\n",
    "model.add(Dense(128, kernel_constraint=maxnorm(3)))\n",
    "model.add(Activation('relu'))\n",
    "model.add(Dropout(0.2))\n",
    "model.add(BatchNormalization())"
   ]
  },
  {
   "cell_type": "code",
   "execution_count": 66,
   "id": "21a29786-4b7d-4a9f-9e37-d13bbf2458fd",
   "metadata": {},
   "outputs": [],
   "source": [
    "model.add(Dense(class_num))\n",
    "model.add(Activation('softmax'))"
   ]
  },
  {
   "cell_type": "code",
   "execution_count": 67,
   "id": "ac98cdd0-36be-4d9d-b1dc-1ae400e115f2",
   "metadata": {},
   "outputs": [],
   "source": [
    "epochs = 25\n",
    "optimizer = 'adam'"
   ]
  },
  {
   "cell_type": "code",
   "execution_count": 68,
   "id": "2e219b61-d5ec-48ae-9b38-b2ef46a4acc1",
   "metadata": {},
   "outputs": [],
   "source": [
    "#compile the model with chosen parameter, specify metrics\n",
    "model.compile(loss='categorical_crossentropy', optimizer=optimizer, metrics = ['accuracy'])"
   ]
  },
  {
   "cell_type": "markdown",
   "id": "53481c23-a8b5-4045-aed8-0340b93000db",
   "metadata": {},
   "source": [
    "model.compile(loss='categorical_crossentropy', optimizer=optimizer, metrics = ['accuracy])"
   ]
  },
  {
   "cell_type": "code",
   "execution_count": 69,
   "id": "9f168249-188a-4abf-8d3b-271b2fafa3b6",
   "metadata": {},
   "outputs": [
    {
     "name": "stdout",
     "output_type": "stream",
     "text": [
      "Model: \"sequential_1\"\n",
      "_________________________________________________________________\n",
      " Layer (type)                Output Shape              Param #   \n",
      "=================================================================\n",
      " conv2d_13 (Conv2D)          (None, 32, 32, 32)        896       \n",
      "                                                                 \n",
      " activation_11 (Activation)  (None, 32, 32, 32)        0         \n",
      "                                                                 \n",
      " dropout_12 (Dropout)        (None, 32, 32, 32)        0         \n",
      "                                                                 \n",
      " batch_normalization_4 (Batc  (None, 32, 32, 32)       128       \n",
      " hNormalization)                                                 \n",
      "                                                                 \n",
      " conv2d_14 (Conv2D)          (None, 32, 32, 64)        18496     \n",
      "                                                                 \n",
      " activation_12 (Activation)  (None, 32, 32, 64)        0         \n",
      "                                                                 \n",
      " max_pooling2d_7 (MaxPooling  (None, 16, 16, 64)       0         \n",
      " 2D)                                                             \n",
      "                                                                 \n",
      " dropout_13 (Dropout)        (None, 16, 16, 64)        0         \n",
      "                                                                 \n",
      " batch_normalization_5 (Batc  (None, 16, 16, 64)       256       \n",
      " hNormalization)                                                 \n",
      "                                                                 \n",
      " conv2d_15 (Conv2D)          (None, 16, 16, 64)        36928     \n",
      "                                                                 \n",
      " activation_13 (Activation)  (None, 16, 16, 64)        0         \n",
      "                                                                 \n",
      " max_pooling2d_8 (MaxPooling  (None, 8, 8, 64)         0         \n",
      " 2D)                                                             \n",
      "                                                                 \n",
      " dropout_14 (Dropout)        (None, 8, 8, 64)          0         \n",
      "                                                                 \n",
      " batch_normalization_6 (Batc  (None, 8, 8, 64)         256       \n",
      " hNormalization)                                                 \n",
      "                                                                 \n",
      " conv2d_16 (Conv2D)          (None, 8, 8, 128)         73856     \n",
      "                                                                 \n",
      " activation_14 (Activation)  (None, 8, 8, 128)         0         \n",
      "                                                                 \n",
      " dropout_15 (Dropout)        (None, 8, 8, 128)         0         \n",
      "                                                                 \n",
      " batch_normalization_7 (Batc  (None, 8, 8, 128)        512       \n",
      " hNormalization)                                                 \n",
      "                                                                 \n",
      " flatten_2 (Flatten)         (None, 8192)              0         \n",
      "                                                                 \n",
      " dropout_16 (Dropout)        (None, 8192)              0         \n",
      "                                                                 \n",
      " dense_5 (Dense)             (None, 256)               2097408   \n",
      "                                                                 \n",
      " activation_15 (Activation)  (None, 256)               0         \n",
      "                                                                 \n",
      " dropout_17 (Dropout)        (None, 256)               0         \n",
      "                                                                 \n",
      " batch_normalization_8 (Batc  (None, 256)              1024      \n",
      " hNormalization)                                                 \n",
      "                                                                 \n",
      " dense_6 (Dense)             (None, 128)               32896     \n",
      "                                                                 \n",
      " activation_16 (Activation)  (None, 128)               0         \n",
      "                                                                 \n",
      " dropout_18 (Dropout)        (None, 128)               0         \n",
      "                                                                 \n",
      " batch_normalization_9 (Batc  (None, 128)              512       \n",
      " hNormalization)                                                 \n",
      "                                                                 \n",
      " dense_7 (Dense)             (None, 10)                1290      \n",
      "                                                                 \n",
      " activation_17 (Activation)  (None, 10)                0         \n",
      "                                                                 \n",
      "=================================================================\n",
      "Total params: 2,264,458\n",
      "Trainable params: 2,263,114\n",
      "Non-trainable params: 1,344\n",
      "_________________________________________________________________\n",
      "None\n"
     ]
    }
   ],
   "source": [
    "print(model.summary())"
   ]
  },
  {
   "cell_type": "code",
   "execution_count": 70,
   "id": "1191b6bb-07a9-435f-98b2-7fb074338670",
   "metadata": {},
   "outputs": [
    {
     "name": "stdout",
     "output_type": "stream",
     "text": [
      "Epoch 1/25\n",
      "782/782 [==============================] - 191s 243ms/step - loss: 1.5062 - accuracy: 0.4656 - val_loss: 1.1704 - val_accuracy: 0.5805\n",
      "Epoch 2/25\n",
      "782/782 [==============================] - 212s 271ms/step - loss: 1.0299 - accuracy: 0.6351 - val_loss: 0.8353 - val_accuracy: 0.7081\n",
      "Epoch 3/25\n",
      "782/782 [==============================] - 181s 231ms/step - loss: 0.8484 - accuracy: 0.7018 - val_loss: 0.8030 - val_accuracy: 0.7239\n",
      "Epoch 4/25\n",
      "782/782 [==============================] - 127s 163ms/step - loss: 0.7591 - accuracy: 0.7326 - val_loss: 0.7234 - val_accuracy: 0.7544\n",
      "Epoch 5/25\n",
      "782/782 [==============================] - 182s 233ms/step - loss: 0.6980 - accuracy: 0.7576 - val_loss: 0.6347 - val_accuracy: 0.7808\n",
      "Epoch 6/25\n",
      "782/782 [==============================] - 185s 237ms/step - loss: 0.6577 - accuracy: 0.7690 - val_loss: 0.6756 - val_accuracy: 0.7679\n",
      "Epoch 7/25\n",
      "782/782 [==============================] - 210s 269ms/step - loss: 0.6226 - accuracy: 0.7820 - val_loss: 0.6534 - val_accuracy: 0.7759\n",
      "Epoch 8/25\n",
      "782/782 [==============================] - 197s 252ms/step - loss: 0.5980 - accuracy: 0.7912 - val_loss: 0.6916 - val_accuracy: 0.7624\n",
      "Epoch 9/25\n",
      "782/782 [==============================] - 256s 327ms/step - loss: 0.5739 - accuracy: 0.7995 - val_loss: 0.6163 - val_accuracy: 0.7914\n",
      "Epoch 10/25\n",
      "782/782 [==============================] - 228s 291ms/step - loss: 0.5529 - accuracy: 0.8070 - val_loss: 0.5787 - val_accuracy: 0.8048\n",
      "Epoch 11/25\n",
      "782/782 [==============================] - 238s 304ms/step - loss: 0.5390 - accuracy: 0.8139 - val_loss: 0.5839 - val_accuracy: 0.7989\n",
      "Epoch 12/25\n",
      "782/782 [==============================] - 216s 276ms/step - loss: 0.5143 - accuracy: 0.8218 - val_loss: 0.5998 - val_accuracy: 0.7940\n",
      "Epoch 13/25\n",
      "782/782 [==============================] - 203s 259ms/step - loss: 0.5074 - accuracy: 0.8210 - val_loss: 0.5437 - val_accuracy: 0.8143\n",
      "Epoch 14/25\n",
      "782/782 [==============================] - 286s 366ms/step - loss: 0.4944 - accuracy: 0.8248 - val_loss: 0.6116 - val_accuracy: 0.7914\n",
      "Epoch 15/25\n",
      "782/782 [==============================] - 247s 316ms/step - loss: 0.4843 - accuracy: 0.8309 - val_loss: 0.5699 - val_accuracy: 0.8099\n",
      "Epoch 16/25\n",
      "782/782 [==============================] - 213s 272ms/step - loss: 0.4755 - accuracy: 0.8350 - val_loss: 0.5581 - val_accuracy: 0.8092\n",
      "Epoch 17/25\n",
      "782/782 [==============================] - 213s 273ms/step - loss: 0.4621 - accuracy: 0.8370 - val_loss: 0.5167 - val_accuracy: 0.8246\n",
      "Epoch 18/25\n",
      "782/782 [==============================] - 196s 251ms/step - loss: 0.4582 - accuracy: 0.8397 - val_loss: 0.5246 - val_accuracy: 0.8249\n",
      "Epoch 19/25\n",
      "782/782 [==============================] - 175s 223ms/step - loss: 0.4502 - accuracy: 0.8426 - val_loss: 0.5425 - val_accuracy: 0.8181\n",
      "Epoch 20/25\n",
      "782/782 [==============================] - 134s 171ms/step - loss: 0.4449 - accuracy: 0.8444 - val_loss: 0.5404 - val_accuracy: 0.8252\n",
      "Epoch 21/25\n",
      "782/782 [==============================] - 152s 194ms/step - loss: 0.4407 - accuracy: 0.8444 - val_loss: 0.5316 - val_accuracy: 0.8235\n",
      "Epoch 22/25\n",
      "782/782 [==============================] - 149s 191ms/step - loss: 0.4301 - accuracy: 0.8477 - val_loss: 0.5496 - val_accuracy: 0.8184\n",
      "Epoch 23/25\n",
      "782/782 [==============================] - 157s 200ms/step - loss: 0.4240 - accuracy: 0.8529 - val_loss: 0.5446 - val_accuracy: 0.8179\n",
      "Epoch 24/25\n",
      "782/782 [==============================] - 133s 171ms/step - loss: 0.4212 - accuracy: 0.8533 - val_loss: 0.6093 - val_accuracy: 0.7994\n",
      "Epoch 25/25\n",
      "782/782 [==============================] - 133s 170ms/step - loss: 0.4142 - accuracy: 0.8542 - val_loss: 0.5400 - val_accuracy: 0.8201\n"
     ]
    },
    {
     "data": {
      "text/plain": [
       "<keras.callbacks.History at 0x151fbb760>"
      ]
     },
     "execution_count": 70,
     "metadata": {},
     "output_type": "execute_result"
    }
   ],
   "source": [
    "numpy.random.seed(seed)\n",
    "model.fit(X_train, y_train, validation_data=(X_test, y_test), epochs=epochs, batch_size=64)"
   ]
  },
  {
   "cell_type": "code",
   "execution_count": 71,
   "id": "0f12c0cf-bea6-4512-a836-7dab37e0c3fb",
   "metadata": {},
   "outputs": [
    {
     "name": "stdout",
     "output_type": "stream",
     "text": [
      "Accuracy: 82.01%\n"
     ]
    }
   ],
   "source": [
    "scores = model.evaluate(X_test, y_test, verbose=0)\n",
    "print(\"Accuracy: %.2f%%\" % (scores[1]*100))"
   ]
  },
  {
   "cell_type": "code",
   "execution_count": null,
   "id": "d20efa9a-1b68-46cc-a79b-1c88fdead3c4",
   "metadata": {},
   "outputs": [],
   "source": []
  }
 ],
 "metadata": {
  "kernelspec": {
   "display_name": "Python 3 (ipykernel)",
   "language": "python",
   "name": "python3"
  },
  "language_info": {
   "codemirror_mode": {
    "name": "ipython",
    "version": 3
   },
   "file_extension": ".py",
   "mimetype": "text/x-python",
   "name": "python",
   "nbconvert_exporter": "python",
   "pygments_lexer": "ipython3",
   "version": "3.9.13"
  }
 },
 "nbformat": 4,
 "nbformat_minor": 5
}
